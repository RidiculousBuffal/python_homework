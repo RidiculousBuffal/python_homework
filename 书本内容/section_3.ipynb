{
 "cells": [
  {
   "cell_type": "markdown",
   "source": [
    "# 环境测试"
   ],
   "metadata": {
    "collapsed": false
   }
  },
  {
   "cell_type": "code",
   "execution_count": 1,
   "metadata": {
    "collapsed": true,
    "ExecuteTime": {
     "end_time": "2023-09-17T14:02:10.717955400Z",
     "start_time": "2023-09-17T14:02:10.705966100Z"
    }
   },
   "outputs": [
    {
     "name": "stdout",
     "output_type": "stream",
     "text": [
      "hi\n"
     ]
    }
   ],
   "source": [
    "print('hi')"
   ]
  },
  {
   "cell_type": "markdown",
   "source": [
    "# 第三章-统计"
   ],
   "metadata": {
    "collapsed": false
   }
  },
  {
   "cell_type": "markdown",
   "source": [
    "## Pandas 数据结构\n",
    "### Series"
   ],
   "metadata": {
    "collapsed": false
   }
  },
  {
   "cell_type": "code",
   "execution_count": 2,
   "outputs": [],
   "source": [
    "# 头文件\n",
    "import pandas as pd\n",
    "import numpy as np"
   ],
   "metadata": {
    "collapsed": false,
    "ExecuteTime": {
     "end_time": "2023-09-17T14:02:11.014732300Z",
     "start_time": "2023-09-17T14:02:10.717955400Z"
    }
   }
  },
  {
   "cell_type": "markdown",
   "source": [
    "#### Series\n",
    "- `Series` 中的`index`对象可以省略\n",
    "- `Series` 中的`data` 可以是`Numpy`对象"
   ],
   "metadata": {
    "collapsed": false
   }
  },
  {
   "cell_type": "code",
   "execution_count": 3,
   "outputs": [
    {
     "data": {
      "text/plain": "13    187\n14    190\n7     185\n2     178\n9     185\ndtype: int64"
     },
     "execution_count": 3,
     "metadata": {},
     "output_type": "execute_result"
    }
   ],
   "source": [
    "# Series 对象是一维的\n",
    "height  = pd.Series(\n",
    "    [187,190,185,178,185],\n",
    "    index=['13','14','7','2','9'] #index 是字符串\n",
    ")\n",
    "height"
   ],
   "metadata": {
    "collapsed": false,
    "ExecuteTime": {
     "end_time": "2023-09-17T14:02:11.029301300Z",
     "start_time": "2023-09-17T14:02:11.015732400Z"
    }
   }
  },
  {
   "cell_type": "markdown",
   "source": [
    "- `Series`对象可以用字典创建"
   ],
   "metadata": {
    "collapsed": false
   }
  },
  {
   "cell_type": "code",
   "execution_count": 4,
   "outputs": [
    {
     "data": {
      "text/plain": "13    187\n14    190\n7     185\n2     178\n9     185\ndtype: int64"
     },
     "execution_count": 4,
     "metadata": {},
     "output_type": "execute_result"
    }
   ],
   "source": [
    "height1 = pd.Series(\n",
    "    {\n",
    "        '13':187,\n",
    "        '14':190,\n",
    "        '7':185,\n",
    "        '2':178,\n",
    "        '9':185\n",
    "    }\n",
    ")\n",
    "height1"
   ],
   "metadata": {
    "collapsed": false,
    "ExecuteTime": {
     "end_time": "2023-09-17T14:02:11.070302200Z",
     "start_time": "2023-09-17T14:02:11.029301300Z"
    }
   }
  },
  {
   "cell_type": "markdown",
   "source": [
    "#### Series 对象的访问"
   ],
   "metadata": {
    "collapsed": false
   }
  },
  {
   "cell_type": "code",
   "execution_count": 5,
   "outputs": [
    {
     "data": {
      "text/plain": "187"
     },
     "execution_count": 5,
     "metadata": {},
     "output_type": "execute_result"
    }
   ],
   "source": [
    "# 通过键值'key'来访问\n",
    "height['13']"
   ],
   "metadata": {
    "collapsed": false,
    "ExecuteTime": {
     "end_time": "2023-09-17T14:02:11.071303Z",
     "start_time": "2023-09-17T14:02:11.046312800Z"
    }
   }
  },
  {
   "cell_type": "code",
   "execution_count": 6,
   "outputs": [
    {
     "data": {
      "text/plain": "13    187\n2     178\n7     185\ndtype: int64"
     },
     "execution_count": 6,
     "metadata": {},
     "output_type": "execute_result"
    }
   ],
   "source": [
    "#通过'key'的列表查询\n",
    "height[['13','2','7']]"
   ],
   "metadata": {
    "collapsed": false,
    "ExecuteTime": {
     "end_time": "2023-09-17T14:02:11.082309100Z",
     "start_time": "2023-09-17T14:02:11.063301200Z"
    }
   }
  },
  {
   "cell_type": "code",
   "execution_count": 7,
   "outputs": [
    {
     "data": {
      "text/plain": "14    190\n7     185\ndtype: int64"
     },
     "execution_count": 7,
     "metadata": {},
     "output_type": "execute_result"
    }
   ],
   "source": [
    "# 通过切片器查询\n",
    "height[1:3]"
   ],
   "metadata": {
    "collapsed": false,
    "ExecuteTime": {
     "end_time": "2023-09-17T14:02:11.092302200Z",
     "start_time": "2023-09-17T14:02:11.078302200Z"
    }
   }
  },
  {
   "cell_type": "code",
   "execution_count": 7,
   "outputs": [],
   "source": [],
   "metadata": {
    "collapsed": false,
    "ExecuteTime": {
     "end_time": "2023-09-17T14:02:11.137308400Z",
     "start_time": "2023-09-17T14:02:11.092302200Z"
    }
   }
  },
  {
   "cell_type": "markdown",
   "source": [
    "- 通过`.values`函数可以确定`Series`中的值"
   ],
   "metadata": {
    "collapsed": false
   }
  },
  {
   "cell_type": "code",
   "execution_count": 8,
   "outputs": [
    {
     "data": {
      "text/plain": "13    187\n14    190\ndtype: int64"
     },
     "execution_count": 8,
     "metadata": {},
     "output_type": "execute_result"
    }
   ],
   "source": [
    "#通过布尔值条件查询\n",
    "height[height.values>=186]"
   ],
   "metadata": {
    "collapsed": false,
    "ExecuteTime": {
     "end_time": "2023-09-17T14:02:11.154302300Z",
     "start_time": "2023-09-17T14:02:11.110301100Z"
    }
   }
  },
  {
   "cell_type": "markdown",
   "source": [
    "#### 信息修改"
   ],
   "metadata": {
    "collapsed": false
   }
  },
  {
   "cell_type": "code",
   "execution_count": 9,
   "outputs": [
    {
     "data": {
      "text/plain": "13    186\n14    190\n7     185\n2     178\n9     185\ndtype: int64"
     },
     "execution_count": 9,
     "metadata": {},
     "output_type": "execute_result"
    }
   ],
   "source": [
    "height['13']=186\n",
    "height"
   ],
   "metadata": {
    "collapsed": false,
    "ExecuteTime": {
     "end_time": "2023-09-17T14:02:11.155301800Z",
     "start_time": "2023-09-17T14:02:11.124300800Z"
    }
   }
  },
  {
   "cell_type": "code",
   "execution_count": 10,
   "outputs": [
    {
     "data": {
      "text/plain": "13    186\n14    160\n7     160\n2     178\n9     185\ndtype: int64"
     },
     "execution_count": 10,
     "metadata": {},
     "output_type": "execute_result"
    }
   ],
   "source": [
    "# 切片修改\n",
    "height[1:3]=160\n",
    "height"
   ],
   "metadata": {
    "collapsed": false,
    "ExecuteTime": {
     "end_time": "2023-09-17T14:02:11.156302500Z",
     "start_time": "2023-09-17T14:02:11.140301Z"
    }
   }
  },
  {
   "cell_type": "markdown",
   "source": [
    "#### 增加元素\n",
    "书本上的`append`在`pandas 2.0`已经被弃用,现在给出两种方式"
   ],
   "metadata": {
    "collapsed": false
   }
  },
  {
   "cell_type": "code",
   "execution_count": 11,
   "outputs": [
    {
     "data": {
      "text/plain": "13    186\n14    160\n7     160\n2     178\n9     185\n23    190\n5     187\ndtype: int64"
     },
     "execution_count": 11,
     "metadata": {},
     "output_type": "execute_result"
    }
   ],
   "source": [
    "a = pd.Series([190,187],index=['23','5'])\n",
    "copy_height = height\n",
    "copy_height = copy_height._append(a) #注意这里是_append 不是 append!\n",
    "copy_height"
   ],
   "metadata": {
    "collapsed": false,
    "ExecuteTime": {
     "end_time": "2023-09-17T14:02:11.208308300Z",
     "start_time": "2023-09-17T14:02:11.155301800Z"
    }
   }
  },
  {
   "cell_type": "code",
   "execution_count": 12,
   "outputs": [
    {
     "data": {
      "text/plain": "13    186\n14    160\n7     160\n2     178\n9     185\n23    190\n5     187\ndtype: int64"
     },
     "execution_count": 12,
     "metadata": {},
     "output_type": "execute_result"
    }
   ],
   "source": [
    "# 目前官方推荐的是用 concat\n",
    "newheight = pd.concat([height,a],ignore_index=False) #合并的东西用列表括起来\n",
    "newheight"
   ],
   "metadata": {
    "collapsed": false,
    "ExecuteTime": {
     "end_time": "2023-09-17T14:02:11.209309200Z",
     "start_time": "2023-09-17T14:02:11.171301800Z"
    }
   }
  },
  {
   "cell_type": "markdown",
   "source": [
    "#### 删除离队的队员\n",
    "- `Series` 的 `drop` 不会影响到原来的`Series`"
   ],
   "metadata": {
    "collapsed": false
   }
  },
  {
   "cell_type": "code",
   "execution_count": 13,
   "outputs": [
    {
     "data": {
      "text/plain": "14    160\n7     160\n2     178\ndtype: int64"
     },
     "execution_count": 13,
     "metadata": {},
     "output_type": "execute_result"
    }
   ],
   "source": [
    "newheight = height.drop(['13','9']) #通过key删除\n",
    "newheight"
   ],
   "metadata": {
    "collapsed": false,
    "ExecuteTime": {
     "end_time": "2023-09-17T14:02:11.210310900Z",
     "start_time": "2023-09-17T14:02:11.188301500Z"
    }
   }
  },
  {
   "cell_type": "markdown",
   "source": [
    "#### 修改索引`index`"
   ],
   "metadata": {
    "collapsed": false
   }
  },
  {
   "cell_type": "code",
   "execution_count": 14,
   "outputs": [
    {
     "data": {
      "text/plain": "1    186\n2    160\n3    160\n4    178\n5    185\ndtype: int64"
     },
     "execution_count": 14,
     "metadata": {},
     "output_type": "execute_result"
    }
   ],
   "source": [
    "height.index = [1,2,3,4,5]\n",
    "height"
   ],
   "metadata": {
    "collapsed": false,
    "ExecuteTime": {
     "end_time": "2023-09-17T14:02:11.222713500Z",
     "start_time": "2023-09-17T14:02:11.203302300Z"
    }
   }
  },
  {
   "cell_type": "markdown",
   "source": [
    "- 如果`Series`对象本身的索引是数字,基于位置序号的访问需要用到`.iloc`实现"
   ],
   "metadata": {
    "collapsed": false
   }
  },
  {
   "cell_type": "code",
   "execution_count": 15,
   "outputs": [
    {
     "data": {
      "text/plain": "13    187\n14    190\n7     185\n2     178\n9     185\ndtype: int64"
     },
     "execution_count": 15,
     "metadata": {},
     "output_type": "execute_result"
    }
   ],
   "source": [
    "height = pd.Series(\n",
    "    [187,190,185,178,185],\n",
    "    index=[13,14,7,2,9]\n",
    ")\n",
    "height"
   ],
   "metadata": {
    "collapsed": false,
    "ExecuteTime": {
     "end_time": "2023-09-17T14:02:11.269721500Z",
     "start_time": "2023-09-17T14:02:11.218717Z"
    }
   }
  },
  {
   "cell_type": "code",
   "execution_count": 16,
   "outputs": [
    {
     "data": {
      "text/plain": "13    187\ndtype: int64"
     },
     "execution_count": 16,
     "metadata": {},
     "output_type": "execute_result"
    }
   ],
   "source": [
    "# 通过键值对形式访问\n",
    "height[[13]]"
   ],
   "metadata": {
    "collapsed": false,
    "ExecuteTime": {
     "end_time": "2023-09-17T14:02:11.269721500Z",
     "start_time": "2023-09-17T14:02:11.235713600Z"
    }
   }
  },
  {
   "cell_type": "code",
   "execution_count": 17,
   "outputs": [
    {
     "ename": "KeyError",
     "evalue": "0",
     "output_type": "error",
     "traceback": [
      "\u001B[1;31m---------------------------------------------------------------------------\u001B[0m",
      "\u001B[1;31mKeyError\u001B[0m                                  Traceback (most recent call last)",
      "File \u001B[1;32mE:\\pythonProject4\\venv\\lib\\site-packages\\pandas\\core\\indexes\\base.py:3653\u001B[0m, in \u001B[0;36mIndex.get_loc\u001B[1;34m(self, key)\u001B[0m\n\u001B[0;32m   3652\u001B[0m \u001B[38;5;28;01mtry\u001B[39;00m:\n\u001B[1;32m-> 3653\u001B[0m     \u001B[38;5;28;01mreturn\u001B[39;00m \u001B[38;5;28;43mself\u001B[39;49m\u001B[38;5;241;43m.\u001B[39;49m\u001B[43m_engine\u001B[49m\u001B[38;5;241;43m.\u001B[39;49m\u001B[43mget_loc\u001B[49m\u001B[43m(\u001B[49m\u001B[43mcasted_key\u001B[49m\u001B[43m)\u001B[49m\n\u001B[0;32m   3654\u001B[0m \u001B[38;5;28;01mexcept\u001B[39;00m \u001B[38;5;167;01mKeyError\u001B[39;00m \u001B[38;5;28;01mas\u001B[39;00m err:\n",
      "File \u001B[1;32mE:\\pythonProject4\\venv\\lib\\site-packages\\pandas\\_libs\\index.pyx:147\u001B[0m, in \u001B[0;36mpandas._libs.index.IndexEngine.get_loc\u001B[1;34m()\u001B[0m\n",
      "File \u001B[1;32mE:\\pythonProject4\\venv\\lib\\site-packages\\pandas\\_libs\\index.pyx:176\u001B[0m, in \u001B[0;36mpandas._libs.index.IndexEngine.get_loc\u001B[1;34m()\u001B[0m\n",
      "File \u001B[1;32mpandas\\_libs\\hashtable_class_helper.pxi:2606\u001B[0m, in \u001B[0;36mpandas._libs.hashtable.Int64HashTable.get_item\u001B[1;34m()\u001B[0m\n",
      "File \u001B[1;32mpandas\\_libs\\hashtable_class_helper.pxi:2630\u001B[0m, in \u001B[0;36mpandas._libs.hashtable.Int64HashTable.get_item\u001B[1;34m()\u001B[0m\n",
      "\u001B[1;31mKeyError\u001B[0m: 0",
      "\nThe above exception was the direct cause of the following exception:\n",
      "\u001B[1;31mKeyError\u001B[0m                                  Traceback (most recent call last)",
      "Cell \u001B[1;32mIn[17], line 2\u001B[0m\n\u001B[0;32m      1\u001B[0m \u001B[38;5;66;03m#通过位置访问\u001B[39;00m\n\u001B[1;32m----> 2\u001B[0m \u001B[43mheight\u001B[49m\u001B[43m[\u001B[49m\u001B[38;5;241;43m0\u001B[39;49m\u001B[43m]\u001B[49m \u001B[38;5;66;03m# 这样就会报错\u001B[39;00m\n",
      "File \u001B[1;32mE:\\pythonProject4\\venv\\lib\\site-packages\\pandas\\core\\series.py:1007\u001B[0m, in \u001B[0;36mSeries.__getitem__\u001B[1;34m(self, key)\u001B[0m\n\u001B[0;32m   1004\u001B[0m     \u001B[38;5;28;01mreturn\u001B[39;00m \u001B[38;5;28mself\u001B[39m\u001B[38;5;241m.\u001B[39m_values[key]\n\u001B[0;32m   1006\u001B[0m \u001B[38;5;28;01melif\u001B[39;00m key_is_scalar:\n\u001B[1;32m-> 1007\u001B[0m     \u001B[38;5;28;01mreturn\u001B[39;00m \u001B[38;5;28;43mself\u001B[39;49m\u001B[38;5;241;43m.\u001B[39;49m\u001B[43m_get_value\u001B[49m\u001B[43m(\u001B[49m\u001B[43mkey\u001B[49m\u001B[43m)\u001B[49m\n\u001B[0;32m   1009\u001B[0m \u001B[38;5;28;01mif\u001B[39;00m is_hashable(key):\n\u001B[0;32m   1010\u001B[0m     \u001B[38;5;66;03m# Otherwise index.get_value will raise InvalidIndexError\u001B[39;00m\n\u001B[0;32m   1011\u001B[0m     \u001B[38;5;28;01mtry\u001B[39;00m:\n\u001B[0;32m   1012\u001B[0m         \u001B[38;5;66;03m# For labels that don't resolve as scalars like tuples and frozensets\u001B[39;00m\n",
      "File \u001B[1;32mE:\\pythonProject4\\venv\\lib\\site-packages\\pandas\\core\\series.py:1116\u001B[0m, in \u001B[0;36mSeries._get_value\u001B[1;34m(self, label, takeable)\u001B[0m\n\u001B[0;32m   1113\u001B[0m     \u001B[38;5;28;01mreturn\u001B[39;00m \u001B[38;5;28mself\u001B[39m\u001B[38;5;241m.\u001B[39m_values[label]\n\u001B[0;32m   1115\u001B[0m \u001B[38;5;66;03m# Similar to Index.get_value, but we do not fall back to positional\u001B[39;00m\n\u001B[1;32m-> 1116\u001B[0m loc \u001B[38;5;241m=\u001B[39m \u001B[38;5;28;43mself\u001B[39;49m\u001B[38;5;241;43m.\u001B[39;49m\u001B[43mindex\u001B[49m\u001B[38;5;241;43m.\u001B[39;49m\u001B[43mget_loc\u001B[49m\u001B[43m(\u001B[49m\u001B[43mlabel\u001B[49m\u001B[43m)\u001B[49m\n\u001B[0;32m   1118\u001B[0m \u001B[38;5;28;01mif\u001B[39;00m is_integer(loc):\n\u001B[0;32m   1119\u001B[0m     \u001B[38;5;28;01mreturn\u001B[39;00m \u001B[38;5;28mself\u001B[39m\u001B[38;5;241m.\u001B[39m_values[loc]\n",
      "File \u001B[1;32mE:\\pythonProject4\\venv\\lib\\site-packages\\pandas\\core\\indexes\\base.py:3655\u001B[0m, in \u001B[0;36mIndex.get_loc\u001B[1;34m(self, key)\u001B[0m\n\u001B[0;32m   3653\u001B[0m     \u001B[38;5;28;01mreturn\u001B[39;00m \u001B[38;5;28mself\u001B[39m\u001B[38;5;241m.\u001B[39m_engine\u001B[38;5;241m.\u001B[39mget_loc(casted_key)\n\u001B[0;32m   3654\u001B[0m \u001B[38;5;28;01mexcept\u001B[39;00m \u001B[38;5;167;01mKeyError\u001B[39;00m \u001B[38;5;28;01mas\u001B[39;00m err:\n\u001B[1;32m-> 3655\u001B[0m     \u001B[38;5;28;01mraise\u001B[39;00m \u001B[38;5;167;01mKeyError\u001B[39;00m(key) \u001B[38;5;28;01mfrom\u001B[39;00m \u001B[38;5;21;01merr\u001B[39;00m\n\u001B[0;32m   3656\u001B[0m \u001B[38;5;28;01mexcept\u001B[39;00m \u001B[38;5;167;01mTypeError\u001B[39;00m:\n\u001B[0;32m   3657\u001B[0m     \u001B[38;5;66;03m# If we have a listlike key, _check_indexing_error will raise\u001B[39;00m\n\u001B[0;32m   3658\u001B[0m     \u001B[38;5;66;03m#  InvalidIndexError. Otherwise we fall through and re-raise\u001B[39;00m\n\u001B[0;32m   3659\u001B[0m     \u001B[38;5;66;03m#  the TypeError.\u001B[39;00m\n\u001B[0;32m   3660\u001B[0m     \u001B[38;5;28mself\u001B[39m\u001B[38;5;241m.\u001B[39m_check_indexing_error(key)\n",
      "\u001B[1;31mKeyError\u001B[0m: 0"
     ]
    }
   ],
   "source": [
    "#通过位置访问\n",
    "height[0] # 这样就会报错"
   ],
   "metadata": {
    "collapsed": false,
    "ExecuteTime": {
     "end_time": "2023-09-17T14:02:11.897990900Z",
     "start_time": "2023-09-17T14:02:11.247713600Z"
    }
   }
  },
  {
   "cell_type": "code",
   "execution_count": 18,
   "outputs": [
    {
     "data": {
      "text/plain": "187"
     },
     "execution_count": 18,
     "metadata": {},
     "output_type": "execute_result"
    }
   ],
   "source": [
    "height.iloc[0]"
   ],
   "metadata": {
    "collapsed": false,
    "ExecuteTime": {
     "end_time": "2023-09-17T14:02:18.615896600Z",
     "start_time": "2023-09-17T14:02:18.603892100Z"
    }
   }
  },
  {
   "cell_type": "markdown",
   "source": [
    "### DataFrame 对象\n",
    "\n",
    "```python\n",
    "import pandas as pd\n",
    "pd.DataFrame(data,index=[],columns=[])\n",
    "```"
   ],
   "metadata": {
    "collapsed": false
   }
  },
  {
   "cell_type": "code",
   "execution_count": 19,
   "outputs": [
    {
     "data": {
      "text/plain": "   age  height  weight\n1   19     170      68\n2   20     165      65\n3   18     175      65",
      "text/html": "<div>\n<style scoped>\n    .dataframe tbody tr th:only-of-type {\n        vertical-align: middle;\n    }\n\n    .dataframe tbody tr th {\n        vertical-align: top;\n    }\n\n    .dataframe thead th {\n        text-align: right;\n    }\n</style>\n<table border=\"1\" class=\"dataframe\">\n  <thead>\n    <tr style=\"text-align: right;\">\n      <th></th>\n      <th>age</th>\n      <th>height</th>\n      <th>weight</th>\n    </tr>\n  </thead>\n  <tbody>\n    <tr>\n      <th>1</th>\n      <td>19</td>\n      <td>170</td>\n      <td>68</td>\n    </tr>\n    <tr>\n      <th>2</th>\n      <td>20</td>\n      <td>165</td>\n      <td>65</td>\n    </tr>\n    <tr>\n      <th>3</th>\n      <td>18</td>\n      <td>175</td>\n      <td>65</td>\n    </tr>\n  </tbody>\n</table>\n</div>"
     },
     "execution_count": 19,
     "metadata": {},
     "output_type": "execute_result"
    }
   ],
   "source": [
    "data = [[19,170,68],[20,165,65],[18,175,65]]\n",
    "students = pd.DataFrame(data,index=[1,2,3],columns=['age','height','weight'])\n",
    "students"
   ],
   "metadata": {
    "collapsed": false,
    "ExecuteTime": {
     "end_time": "2023-09-17T14:02:21.608103Z",
     "start_time": "2023-09-17T14:02:21.584100600Z"
    }
   }
  },
  {
   "cell_type": "markdown",
   "source": [
    "#### DataFrame 访问"
   ],
   "metadata": {
    "collapsed": false
   }
  },
  {
   "cell_type": "code",
   "execution_count": 20,
   "outputs": [
    {
     "data": {
      "text/plain": "19"
     },
     "execution_count": 20,
     "metadata": {},
     "output_type": "execute_result"
    }
   ],
   "source": [
    "students.loc[1,'age'] #1号学生的年龄,其中1是index中的key"
   ],
   "metadata": {
    "collapsed": false,
    "ExecuteTime": {
     "end_time": "2023-09-17T14:02:24.196464800Z",
     "start_time": "2023-09-17T14:02:24.185464500Z"
    }
   }
  },
  {
   "cell_type": "code",
   "execution_count": 21,
   "outputs": [
    {
     "data": {
      "text/plain": "   height  weight\n1     170      68\n3     175      65",
      "text/html": "<div>\n<style scoped>\n    .dataframe tbody tr th:only-of-type {\n        vertical-align: middle;\n    }\n\n    .dataframe tbody tr th {\n        vertical-align: top;\n    }\n\n    .dataframe thead th {\n        text-align: right;\n    }\n</style>\n<table border=\"1\" class=\"dataframe\">\n  <thead>\n    <tr style=\"text-align: right;\">\n      <th></th>\n      <th>height</th>\n      <th>weight</th>\n    </tr>\n  </thead>\n  <tbody>\n    <tr>\n      <th>1</th>\n      <td>170</td>\n      <td>68</td>\n    </tr>\n    <tr>\n      <th>3</th>\n      <td>175</td>\n      <td>65</td>\n    </tr>\n  </tbody>\n</table>\n</div>"
     },
     "execution_count": 21,
     "metadata": {},
     "output_type": "execute_result"
    }
   ],
   "source": [
    "# 用key的列表查询\n",
    "students.loc[[1,3],['height','weight']]"
   ],
   "metadata": {
    "collapsed": false,
    "ExecuteTime": {
     "end_time": "2023-09-17T14:02:26.120613900Z",
     "start_time": "2023-09-17T14:02:26.095987500Z"
    }
   }
  },
  {
   "cell_type": "code",
   "execution_count": 22,
   "outputs": [
    {
     "data": {
      "text/plain": "   age  height\n1   19     170\n3   18     175",
      "text/html": "<div>\n<style scoped>\n    .dataframe tbody tr th:only-of-type {\n        vertical-align: middle;\n    }\n\n    .dataframe tbody tr th {\n        vertical-align: top;\n    }\n\n    .dataframe thead th {\n        text-align: right;\n    }\n</style>\n<table border=\"1\" class=\"dataframe\">\n  <thead>\n    <tr style=\"text-align: right;\">\n      <th></th>\n      <th>age</th>\n      <th>height</th>\n    </tr>\n  </thead>\n  <tbody>\n    <tr>\n      <th>1</th>\n      <td>19</td>\n      <td>170</td>\n    </tr>\n    <tr>\n      <th>3</th>\n      <td>18</td>\n      <td>175</td>\n    </tr>\n  </tbody>\n</table>\n</div>"
     },
     "execution_count": 22,
     "metadata": {},
     "output_type": "execute_result"
    }
   ],
   "source": [
    "#iloc 是通过位序查询的,先是行标,再是列标\n",
    "students.iloc[[0,2],[0,1]]"
   ],
   "metadata": {
    "collapsed": false,
    "ExecuteTime": {
     "end_time": "2023-09-17T14:02:28.537285Z",
     "start_time": "2023-09-17T14:02:28.523283400Z"
    }
   }
  },
  {
   "cell_type": "code",
   "execution_count": 23,
   "outputs": [
    {
     "data": {
      "text/plain": "   height  weight\n1     170      68\n2     165      65\n3     175      65",
      "text/html": "<div>\n<style scoped>\n    .dataframe tbody tr th:only-of-type {\n        vertical-align: middle;\n    }\n\n    .dataframe tbody tr th {\n        vertical-align: top;\n    }\n\n    .dataframe thead th {\n        text-align: right;\n    }\n</style>\n<table border=\"1\" class=\"dataframe\">\n  <thead>\n    <tr style=\"text-align: right;\">\n      <th></th>\n      <th>height</th>\n      <th>weight</th>\n    </tr>\n  </thead>\n  <tbody>\n    <tr>\n      <th>1</th>\n      <td>170</td>\n      <td>68</td>\n    </tr>\n    <tr>\n      <th>2</th>\n      <td>165</td>\n      <td>65</td>\n    </tr>\n    <tr>\n      <th>3</th>\n      <td>175</td>\n      <td>65</td>\n    </tr>\n  </tbody>\n</table>\n</div>"
     },
     "execution_count": 23,
     "metadata": {},
     "output_type": "execute_result"
    }
   ],
   "source": [
    "#使用冒号:选中所有的行\n",
    "students.loc[:,['height','weight']]"
   ],
   "metadata": {
    "collapsed": false,
    "ExecuteTime": {
     "end_time": "2023-09-17T14:02:30.929841200Z",
     "start_time": "2023-09-17T14:02:30.893834200Z"
    }
   }
  },
  {
   "cell_type": "code",
   "execution_count": 24,
   "outputs": [
    {
     "data": {
      "text/plain": "   height  weight\n1     170      68\n2     165      65\n3     175      65",
      "text/html": "<div>\n<style scoped>\n    .dataframe tbody tr th:only-of-type {\n        vertical-align: middle;\n    }\n\n    .dataframe tbody tr th {\n        vertical-align: top;\n    }\n\n    .dataframe thead th {\n        text-align: right;\n    }\n</style>\n<table border=\"1\" class=\"dataframe\">\n  <thead>\n    <tr style=\"text-align: right;\">\n      <th></th>\n      <th>height</th>\n      <th>weight</th>\n    </tr>\n  </thead>\n  <tbody>\n    <tr>\n      <th>1</th>\n      <td>170</td>\n      <td>68</td>\n    </tr>\n    <tr>\n      <th>2</th>\n      <td>165</td>\n      <td>65</td>\n    </tr>\n    <tr>\n      <th>3</th>\n      <td>175</td>\n      <td>65</td>\n    </tr>\n  </tbody>\n</table>\n</div>"
     },
     "execution_count": 24,
     "metadata": {},
     "output_type": "execute_result"
    }
   ],
   "source": [
    "#查询所有学生的升高和体重\n",
    "students[['height','weight']]"
   ],
   "metadata": {
    "collapsed": false,
    "ExecuteTime": {
     "end_time": "2023-09-17T14:02:33.186785500Z",
     "start_time": "2023-09-17T14:02:33.153787500Z"
    }
   }
  },
  {
   "cell_type": "code",
   "execution_count": 25,
   "outputs": [
    {
     "data": {
      "text/plain": "   age  height\n2   20     165\n3   18     175",
      "text/html": "<div>\n<style scoped>\n    .dataframe tbody tr th:only-of-type {\n        vertical-align: middle;\n    }\n\n    .dataframe tbody tr th {\n        vertical-align: top;\n    }\n\n    .dataframe thead th {\n        text-align: right;\n    }\n</style>\n<table border=\"1\" class=\"dataframe\">\n  <thead>\n    <tr style=\"text-align: right;\">\n      <th></th>\n      <th>age</th>\n      <th>height</th>\n    </tr>\n  </thead>\n  <tbody>\n    <tr>\n      <th>2</th>\n      <td>20</td>\n      <td>165</td>\n    </tr>\n    <tr>\n      <th>3</th>\n      <td>18</td>\n      <td>175</td>\n    </tr>\n  </tbody>\n</table>\n</div>"
     },
     "execution_count": 25,
     "metadata": {},
     "output_type": "execute_result"
    }
   ],
   "source": [
    "# 位序切片\n",
    "students.iloc[1:,0:2]"
   ],
   "metadata": {
    "collapsed": false,
    "ExecuteTime": {
     "end_time": "2023-09-17T14:02:35.637808100Z",
     "start_time": "2023-09-17T14:02:35.605591500Z"
    }
   }
  },
  {
   "cell_type": "code",
   "execution_count": 26,
   "outputs": [
    {
     "data": {
      "text/plain": "   age  height  weight\n2   20     165      65\n3   18     175      65",
      "text/html": "<div>\n<style scoped>\n    .dataframe tbody tr th:only-of-type {\n        vertical-align: middle;\n    }\n\n    .dataframe tbody tr th {\n        vertical-align: top;\n    }\n\n    .dataframe thead th {\n        text-align: right;\n    }\n</style>\n<table border=\"1\" class=\"dataframe\">\n  <thead>\n    <tr style=\"text-align: right;\">\n      <th></th>\n      <th>age</th>\n      <th>height</th>\n      <th>weight</th>\n    </tr>\n  </thead>\n  <tbody>\n    <tr>\n      <th>2</th>\n      <td>20</td>\n      <td>165</td>\n      <td>65</td>\n    </tr>\n    <tr>\n      <th>3</th>\n      <td>18</td>\n      <td>175</td>\n      <td>65</td>\n    </tr>\n  </tbody>\n</table>\n</div>"
     },
     "execution_count": 26,
     "metadata": {},
     "output_type": "execute_result"
    }
   ],
   "source": [
    "students[1:3]"
   ],
   "metadata": {
    "collapsed": false,
    "ExecuteTime": {
     "end_time": "2023-09-17T14:02:37.880410100Z",
     "start_time": "2023-09-17T14:02:37.874401200Z"
    }
   }
  },
  {
   "cell_type": "code",
   "execution_count": 27,
   "outputs": [
    {
     "data": {
      "text/plain": "   height  weight\n1     170      68\n3     175      65",
      "text/html": "<div>\n<style scoped>\n    .dataframe tbody tr th:only-of-type {\n        vertical-align: middle;\n    }\n\n    .dataframe tbody tr th {\n        vertical-align: top;\n    }\n\n    .dataframe thead th {\n        text-align: right;\n    }\n</style>\n<table border=\"1\" class=\"dataframe\">\n  <thead>\n    <tr style=\"text-align: right;\">\n      <th></th>\n      <th>height</th>\n      <th>weight</th>\n    </tr>\n  </thead>\n  <tbody>\n    <tr>\n      <th>1</th>\n      <td>170</td>\n      <td>68</td>\n    </tr>\n    <tr>\n      <th>3</th>\n      <td>175</td>\n      <td>65</td>\n    </tr>\n  </tbody>\n</table>\n</div>"
     },
     "execution_count": 27,
     "metadata": {},
     "output_type": "execute_result"
    }
   ],
   "source": [
    "# 使用筛选条件筛选\n",
    "students.loc[students['height']>=168,['height','weight']]"
   ],
   "metadata": {
    "collapsed": false,
    "ExecuteTime": {
     "end_time": "2023-09-17T14:02:39.649689700Z",
     "start_time": "2023-09-17T14:02:39.629860200Z"
    }
   }
  },
  {
   "cell_type": "markdown",
   "source": [
    "#### 增加信息"
   ],
   "metadata": {
    "collapsed": false
   }
  },
  {
   "cell_type": "code",
   "execution_count": 28,
   "outputs": [
    {
     "data": {
      "text/plain": "   age  height  weight  expense\n1   19     170      68     1500\n2   20     165      65     1600\n3   18     175      65     1200",
      "text/html": "<div>\n<style scoped>\n    .dataframe tbody tr th:only-of-type {\n        vertical-align: middle;\n    }\n\n    .dataframe tbody tr th {\n        vertical-align: top;\n    }\n\n    .dataframe thead th {\n        text-align: right;\n    }\n</style>\n<table border=\"1\" class=\"dataframe\">\n  <thead>\n    <tr style=\"text-align: right;\">\n      <th></th>\n      <th>age</th>\n      <th>height</th>\n      <th>weight</th>\n      <th>expense</th>\n    </tr>\n  </thead>\n  <tbody>\n    <tr>\n      <th>1</th>\n      <td>19</td>\n      <td>170</td>\n      <td>68</td>\n      <td>1500</td>\n    </tr>\n    <tr>\n      <th>2</th>\n      <td>20</td>\n      <td>165</td>\n      <td>65</td>\n      <td>1600</td>\n    </tr>\n    <tr>\n      <th>3</th>\n      <td>18</td>\n      <td>175</td>\n      <td>65</td>\n      <td>1200</td>\n    </tr>\n  </tbody>\n</table>\n</div>"
     },
     "execution_count": 28,
     "metadata": {},
     "output_type": "execute_result"
    }
   ],
   "source": [
    "students['expense'] = [1500,1600,1200]\n",
    "students"
   ],
   "metadata": {
    "collapsed": false,
    "ExecuteTime": {
     "end_time": "2023-09-17T14:02:41.885848Z",
     "start_time": "2023-09-17T14:02:41.876851700Z"
    }
   }
  },
  {
   "cell_type": "markdown",
   "source": [
    "#### 修改信息"
   ],
   "metadata": {
    "collapsed": false
   }
  },
  {
   "cell_type": "code",
   "execution_count": 29,
   "outputs": [
    {
     "data": {
      "text/plain": "   age  height  weight  expense\n1   19     170      68     1000\n2   20     165      65     1000\n3   18     175      65     1000",
      "text/html": "<div>\n<style scoped>\n    .dataframe tbody tr th:only-of-type {\n        vertical-align: middle;\n    }\n\n    .dataframe tbody tr th {\n        vertical-align: top;\n    }\n\n    .dataframe thead th {\n        text-align: right;\n    }\n</style>\n<table border=\"1\" class=\"dataframe\">\n  <thead>\n    <tr style=\"text-align: right;\">\n      <th></th>\n      <th>age</th>\n      <th>height</th>\n      <th>weight</th>\n      <th>expense</th>\n    </tr>\n  </thead>\n  <tbody>\n    <tr>\n      <th>1</th>\n      <td>19</td>\n      <td>170</td>\n      <td>68</td>\n      <td>1000</td>\n    </tr>\n    <tr>\n      <th>2</th>\n      <td>20</td>\n      <td>165</td>\n      <td>65</td>\n      <td>1000</td>\n    </tr>\n    <tr>\n      <th>3</th>\n      <td>18</td>\n      <td>175</td>\n      <td>65</td>\n      <td>1000</td>\n    </tr>\n  </tbody>\n</table>\n</div>"
     },
     "execution_count": 29,
     "metadata": {},
     "output_type": "execute_result"
    }
   ],
   "source": [
    "# 标量赋值\n",
    "students['expense'] = 1000\n",
    "students"
   ],
   "metadata": {
    "collapsed": false,
    "ExecuteTime": {
     "end_time": "2023-09-17T14:02:44.227361Z",
     "start_time": "2023-09-17T14:02:44.195353800Z"
    }
   }
  },
  {
   "cell_type": "code",
   "execution_count": 30,
   "outputs": [
    {
     "data": {
      "text/plain": "   age  height  weight  expense\n1   21     180      70       20\n2   20     165      65     1000\n3   18     175      65     1000",
      "text/html": "<div>\n<style scoped>\n    .dataframe tbody tr th:only-of-type {\n        vertical-align: middle;\n    }\n\n    .dataframe tbody tr th {\n        vertical-align: top;\n    }\n\n    .dataframe thead th {\n        text-align: right;\n    }\n</style>\n<table border=\"1\" class=\"dataframe\">\n  <thead>\n    <tr style=\"text-align: right;\">\n      <th></th>\n      <th>age</th>\n      <th>height</th>\n      <th>weight</th>\n      <th>expense</th>\n    </tr>\n  </thead>\n  <tbody>\n    <tr>\n      <th>1</th>\n      <td>21</td>\n      <td>180</td>\n      <td>70</td>\n      <td>20</td>\n    </tr>\n    <tr>\n      <th>2</th>\n      <td>20</td>\n      <td>165</td>\n      <td>65</td>\n      <td>1000</td>\n    </tr>\n    <tr>\n      <th>3</th>\n      <td>18</td>\n      <td>175</td>\n      <td>65</td>\n      <td>1000</td>\n    </tr>\n  </tbody>\n</table>\n</div>"
     },
     "execution_count": 30,
     "metadata": {},
     "output_type": "execute_result"
    }
   ],
   "source": [
    "# 使用列表赋值\n",
    "students.loc[1,:] = [21,180,70,20]\n",
    "students"
   ],
   "metadata": {
    "collapsed": false,
    "ExecuteTime": {
     "end_time": "2023-09-17T14:02:45.871650100Z",
     "start_time": "2023-09-17T14:02:45.851650600Z"
    }
   }
  },
  {
   "cell_type": "code",
   "execution_count": 31,
   "outputs": [
    {
     "data": {
      "text/plain": "   age  height  weight  expense\n1   21     180      70     1200\n2   20     165      65     1000\n3   18     175      65     1000",
      "text/html": "<div>\n<style scoped>\n    .dataframe tbody tr th:only-of-type {\n        vertical-align: middle;\n    }\n\n    .dataframe tbody tr th {\n        vertical-align: top;\n    }\n\n    .dataframe thead th {\n        text-align: right;\n    }\n</style>\n<table border=\"1\" class=\"dataframe\">\n  <thead>\n    <tr style=\"text-align: right;\">\n      <th></th>\n      <th>age</th>\n      <th>height</th>\n      <th>weight</th>\n      <th>expense</th>\n    </tr>\n  </thead>\n  <tbody>\n    <tr>\n      <th>1</th>\n      <td>21</td>\n      <td>180</td>\n      <td>70</td>\n      <td>1200</td>\n    </tr>\n    <tr>\n      <th>2</th>\n      <td>20</td>\n      <td>165</td>\n      <td>65</td>\n      <td>1000</td>\n    </tr>\n    <tr>\n      <th>3</th>\n      <td>18</td>\n      <td>175</td>\n      <td>65</td>\n      <td>1000</td>\n    </tr>\n  </tbody>\n</table>\n</div>"
     },
     "execution_count": 31,
     "metadata": {},
     "output_type": "execute_result"
    }
   ],
   "source": [
    "students.loc[students['expense']<500,'expense']=1200\n",
    "students"
   ],
   "metadata": {
    "collapsed": false,
    "ExecuteTime": {
     "end_time": "2023-09-17T14:02:47.844967100Z",
     "start_time": "2023-09-17T14:02:47.824959700Z"
    }
   }
  },
  {
   "cell_type": "markdown",
   "source": [
    "#### 删除学生信息"
   ],
   "metadata": {
    "collapsed": false
   }
  },
  {
   "cell_type": "code",
   "execution_count": 32,
   "outputs": [
    {
     "data": {
      "text/plain": "   age  height  weight  expense\n2   20     165      65     1000\n3   18     175      65     1000",
      "text/html": "<div>\n<style scoped>\n    .dataframe tbody tr th:only-of-type {\n        vertical-align: middle;\n    }\n\n    .dataframe tbody tr th {\n        vertical-align: top;\n    }\n\n    .dataframe thead th {\n        text-align: right;\n    }\n</style>\n<table border=\"1\" class=\"dataframe\">\n  <thead>\n    <tr style=\"text-align: right;\">\n      <th></th>\n      <th>age</th>\n      <th>height</th>\n      <th>weight</th>\n      <th>expense</th>\n    </tr>\n  </thead>\n  <tbody>\n    <tr>\n      <th>2</th>\n      <td>20</td>\n      <td>165</td>\n      <td>65</td>\n      <td>1000</td>\n    </tr>\n    <tr>\n      <th>3</th>\n      <td>18</td>\n      <td>175</td>\n      <td>65</td>\n      <td>1000</td>\n    </tr>\n  </tbody>\n</table>\n</div>"
     },
     "execution_count": 32,
     "metadata": {},
     "output_type": "execute_result"
    }
   ],
   "source": [
    "# 删除整行\n",
    "students.drop(1,axis=0) #不会修改原始表格"
   ],
   "metadata": {
    "collapsed": false,
    "ExecuteTime": {
     "end_time": "2023-09-17T14:02:50.780873700Z",
     "start_time": "2023-09-17T14:02:50.768874200Z"
    }
   }
  },
  {
   "cell_type": "code",
   "execution_count": 33,
   "outputs": [
    {
     "data": {
      "text/plain": "   age  height  weight\n1   21     180      70\n2   20     165      65\n3   18     175      65",
      "text/html": "<div>\n<style scoped>\n    .dataframe tbody tr th:only-of-type {\n        vertical-align: middle;\n    }\n\n    .dataframe tbody tr th {\n        vertical-align: top;\n    }\n\n    .dataframe thead th {\n        text-align: right;\n    }\n</style>\n<table border=\"1\" class=\"dataframe\">\n  <thead>\n    <tr style=\"text-align: right;\">\n      <th></th>\n      <th>age</th>\n      <th>height</th>\n      <th>weight</th>\n    </tr>\n  </thead>\n  <tbody>\n    <tr>\n      <th>1</th>\n      <td>21</td>\n      <td>180</td>\n      <td>70</td>\n    </tr>\n    <tr>\n      <th>2</th>\n      <td>20</td>\n      <td>165</td>\n      <td>65</td>\n    </tr>\n    <tr>\n      <th>3</th>\n      <td>18</td>\n      <td>175</td>\n      <td>65</td>\n    </tr>\n  </tbody>\n</table>\n</div>"
     },
     "execution_count": 33,
     "metadata": {},
     "output_type": "execute_result"
    }
   ],
   "source": [
    "students.drop('expense',axis=1) # 删除expense 列,其中axis=1表示列"
   ],
   "metadata": {
    "collapsed": false,
    "ExecuteTime": {
     "end_time": "2023-09-17T14:02:52.707683400Z",
     "start_time": "2023-09-17T14:02:52.696683100Z"
    }
   }
  },
  {
   "cell_type": "code",
   "execution_count": 34,
   "outputs": [
    {
     "data": {
      "text/plain": "   age  height  weight  expense\n3   18     175      65     1000",
      "text/html": "<div>\n<style scoped>\n    .dataframe tbody tr th:only-of-type {\n        vertical-align: middle;\n    }\n\n    .dataframe tbody tr th {\n        vertical-align: top;\n    }\n\n    .dataframe thead th {\n        text-align: right;\n    }\n</style>\n<table border=\"1\" class=\"dataframe\">\n  <thead>\n    <tr style=\"text-align: right;\">\n      <th></th>\n      <th>age</th>\n      <th>height</th>\n      <th>weight</th>\n      <th>expense</th>\n    </tr>\n  </thead>\n  <tbody>\n    <tr>\n      <th>3</th>\n      <td>18</td>\n      <td>175</td>\n      <td>65</td>\n      <td>1000</td>\n    </tr>\n  </tbody>\n</table>\n</div>"
     },
     "execution_count": 34,
     "metadata": {},
     "output_type": "execute_result"
    }
   ],
   "source": [
    "students.drop([1,2],axis=0) #删除多行"
   ],
   "metadata": {
    "collapsed": false,
    "ExecuteTime": {
     "end_time": "2023-09-17T14:02:55.067923300Z",
     "start_time": "2023-09-17T14:02:55.033010Z"
    }
   }
  },
  {
   "cell_type": "code",
   "execution_count": 35,
   "outputs": [
    {
     "data": {
      "text/plain": "   height  expense\n1     180     1200\n2     165     1000\n3     175     1000",
      "text/html": "<div>\n<style scoped>\n    .dataframe tbody tr th:only-of-type {\n        vertical-align: middle;\n    }\n\n    .dataframe tbody tr th {\n        vertical-align: top;\n    }\n\n    .dataframe thead th {\n        text-align: right;\n    }\n</style>\n<table border=\"1\" class=\"dataframe\">\n  <thead>\n    <tr style=\"text-align: right;\">\n      <th></th>\n      <th>height</th>\n      <th>expense</th>\n    </tr>\n  </thead>\n  <tbody>\n    <tr>\n      <th>1</th>\n      <td>180</td>\n      <td>1200</td>\n    </tr>\n    <tr>\n      <th>2</th>\n      <td>165</td>\n      <td>1000</td>\n    </tr>\n    <tr>\n      <th>3</th>\n      <td>175</td>\n      <td>1000</td>\n    </tr>\n  </tbody>\n</table>\n</div>"
     },
     "execution_count": 35,
     "metadata": {},
     "output_type": "execute_result"
    }
   ],
   "source": [
    "#要直接删除原始对象,可以修改implace参数\n",
    "students.drop(['age','weight'],axis=1,inplace=True)\n",
    "students"
   ],
   "metadata": {
    "collapsed": false,
    "ExecuteTime": {
     "end_time": "2023-09-17T14:02:56.956239900Z",
     "start_time": "2023-09-17T14:02:56.949253Z"
    }
   }
  },
  {
   "cell_type": "markdown",
   "source": [
    "## 数据文件的读写\n",
    "### 读取CSV/TXT文件\n",
    "- 读取`csv`\n",
    "`pandas.read_csv()` 函数是 Pandas 库中用于读取 CSV 文件的函数。它可以将 CSV 文件加载到一个 Pandas 的 DataFrame 对象中，便于进行数据分析和处理。\n",
    "以下是 `pandas.read_csv()` 函数的一些常用参数的解释：\n",
    "\n",
    "- `filepath_or_buffer`：CSV 文件的路径或 URL。可以是本地文件路径或远程文件的 URL 地址。\n",
    "- `sep`：字段分隔符。默认为逗号（','）。可以使用其他字符作为字段的分隔符，如制表符('\\t')或分号(';')等。\n",
    "- `delimiter`：与 `sep` 参数功能相同，用于指定字段分隔符。如果同时指定了 `sep` 和 `delimiter`，则 `delimiter` 参数将被忽略。\n",
    "- `header`：指定行号或行号列表，作为列名。默认为 `0`，表示第一行作为列名。如果没有列名，可以设置为 `None`。\n",
    "- `index_col`：用作行索引的列编号或列名。可以是单个列名/编号，或者是由多个列名/编号组成的列表。\n",
    "- `names`：用于给列指定名称的列表。如果文件中没有列名行，可以使用该参数为列指定名称。\n",
    "- `skiprows`：跳过指定的行数。可以是单个整数或整数列表，表示要跳过的行的编号。\n",
    "- `skipfooter`：跳过文件末尾的指定行数。常用于跳过页脚或汇总行。\n",
    "- `nrows`：要读取的行数。如果只想读取文件的前几行，可以指定该参数。\n",
    "- `na_values`：用于将特定值识别为空值的列表。可以是单个值、字符串、列表或字典。\n",
    "- `parse_dates`：将指定的列解析为日期。可以是单个列名/编号，或者由多个列名/编号组成的列表。\n",
    "- `dtype`：指定列的数据类型。可以是字典，将列名映射到数据类型，或者一个数据类型，将该类型应用于所有列。\n",
    "- `encoding`：指定文件的字符编码方式。常用的编码方式包括 'utf-8'、'latin1'、'gbk' 等。\n",
    "- `header`：指定要读取的行作为列名的行号。默认为 `0`，即第一行。\n",
    "- `usecols`：指定要读取的列的列名或列号的列表。可以是单个列名/编号，或者由多个列名/编号组成的列表。\n",
    "- `squeeze`：如果数据只包含一列，并且想要返回一个 Series 而不是 DataFrame，则可以将该参数设置为 `True`。\n",
    "- `thousands`：指定千位分隔符的字符。常见的千位分隔符包括逗号(','), 句点('.')等。\n",
    "\n",
    "这些只是 `pandas.read_csv()` 函数的一部分参数，还有其他可用的参数，可以根据需要进行查阅和使用。"
   ],
   "metadata": {
    "collapsed": false
   }
  },
  {
   "cell_type": "code",
   "execution_count": 39,
   "outputs": [
    {
     "data": {
      "text/plain": "   序号    性别  年龄   身高  体重        省份  成绩\n0   1  male  20  170  70  LiaoNing  71\n1   2  male  22  180  71   GuangXi  77\n2   3  male  22  180  62    FuJian  57\n3   4  male  20  177  72  LiaoNing  79\n4   5  male  20  172  74  ShanDong  91",
      "text/html": "<div>\n<style scoped>\n    .dataframe tbody tr th:only-of-type {\n        vertical-align: middle;\n    }\n\n    .dataframe tbody tr th {\n        vertical-align: top;\n    }\n\n    .dataframe thead th {\n        text-align: right;\n    }\n</style>\n<table border=\"1\" class=\"dataframe\">\n  <thead>\n    <tr style=\"text-align: right;\">\n      <th></th>\n      <th>序号</th>\n      <th>性别</th>\n      <th>年龄</th>\n      <th>身高</th>\n      <th>体重</th>\n      <th>省份</th>\n      <th>成绩</th>\n    </tr>\n  </thead>\n  <tbody>\n    <tr>\n      <th>0</th>\n      <td>1</td>\n      <td>male</td>\n      <td>20</td>\n      <td>170</td>\n      <td>70</td>\n      <td>LiaoNing</td>\n      <td>71</td>\n    </tr>\n    <tr>\n      <th>1</th>\n      <td>2</td>\n      <td>male</td>\n      <td>22</td>\n      <td>180</td>\n      <td>71</td>\n      <td>GuangXi</td>\n      <td>77</td>\n    </tr>\n    <tr>\n      <th>2</th>\n      <td>3</td>\n      <td>male</td>\n      <td>22</td>\n      <td>180</td>\n      <td>62</td>\n      <td>FuJian</td>\n      <td>57</td>\n    </tr>\n    <tr>\n      <th>3</th>\n      <td>4</td>\n      <td>male</td>\n      <td>20</td>\n      <td>177</td>\n      <td>72</td>\n      <td>LiaoNing</td>\n      <td>79</td>\n    </tr>\n    <tr>\n      <th>4</th>\n      <td>5</td>\n      <td>male</td>\n      <td>20</td>\n      <td>172</td>\n      <td>74</td>\n      <td>ShanDong</td>\n      <td>91</td>\n    </tr>\n  </tbody>\n</table>\n</div>"
     },
     "execution_count": 39,
     "metadata": {},
     "output_type": "execute_result"
    }
   ],
   "source": [
    "# 读入文件\n",
    "student = pd.read_csv('./data/student1.csv',encoding='utf-8') #其中./ 表示当前工作目录\n",
    "student"
   ],
   "metadata": {
    "collapsed": false,
    "ExecuteTime": {
     "end_time": "2023-09-17T14:13:37.788977400Z",
     "start_time": "2023-09-17T14:13:37.734969500Z"
    }
   }
  },
  {
   "cell_type": "code",
   "execution_count": 40,
   "outputs": [
    {
     "data": {
      "text/plain": "   序号    性别  年龄   身高  体重        省份  成绩\n2   3  male  22  180  62    FuJian  57\n3   4  male  20  177  72  LiaoNing  79\n4   5  male  20  172  74  ShanDong  91",
      "text/html": "<div>\n<style scoped>\n    .dataframe tbody tr th:only-of-type {\n        vertical-align: middle;\n    }\n\n    .dataframe tbody tr th {\n        vertical-align: top;\n    }\n\n    .dataframe thead th {\n        text-align: right;\n    }\n</style>\n<table border=\"1\" class=\"dataframe\">\n  <thead>\n    <tr style=\"text-align: right;\">\n      <th></th>\n      <th>序号</th>\n      <th>性别</th>\n      <th>年龄</th>\n      <th>身高</th>\n      <th>体重</th>\n      <th>省份</th>\n      <th>成绩</th>\n    </tr>\n  </thead>\n  <tbody>\n    <tr>\n      <th>2</th>\n      <td>3</td>\n      <td>male</td>\n      <td>22</td>\n      <td>180</td>\n      <td>62</td>\n      <td>FuJian</td>\n      <td>57</td>\n    </tr>\n    <tr>\n      <th>3</th>\n      <td>4</td>\n      <td>male</td>\n      <td>20</td>\n      <td>177</td>\n      <td>72</td>\n      <td>LiaoNing</td>\n      <td>79</td>\n    </tr>\n    <tr>\n      <th>4</th>\n      <td>5</td>\n      <td>male</td>\n      <td>20</td>\n      <td>172</td>\n      <td>74</td>\n      <td>ShanDong</td>\n      <td>91</td>\n    </tr>\n  </tbody>\n</table>\n</div>"
     },
     "execution_count": 40,
     "metadata": {},
     "output_type": "execute_result"
    }
   ],
   "source": [
    "student[-3:] #最后的3条数据"
   ],
   "metadata": {
    "collapsed": false,
    "ExecuteTime": {
     "end_time": "2023-09-17T14:14:30.496178700Z",
     "start_time": "2023-09-17T14:14:30.476157200Z"
    }
   }
  },
  {
   "cell_type": "code",
   "execution_count": 41,
   "outputs": [
    {
     "data": {
      "text/plain": "      性别  年龄   身高  体重        省份  成绩\n序号                                 \n1   male  20  170  70  LiaoNing  71\n2   male  22  180  71   GuangXi  77\n3   male  22  180  62    FuJian  57\n4   male  20  177  72  LiaoNing  79\n5   male  20  172  74  ShanDong  91",
      "text/html": "<div>\n<style scoped>\n    .dataframe tbody tr th:only-of-type {\n        vertical-align: middle;\n    }\n\n    .dataframe tbody tr th {\n        vertical-align: top;\n    }\n\n    .dataframe thead th {\n        text-align: right;\n    }\n</style>\n<table border=\"1\" class=\"dataframe\">\n  <thead>\n    <tr style=\"text-align: right;\">\n      <th></th>\n      <th>性别</th>\n      <th>年龄</th>\n      <th>身高</th>\n      <th>体重</th>\n      <th>省份</th>\n      <th>成绩</th>\n    </tr>\n    <tr>\n      <th>序号</th>\n      <th></th>\n      <th></th>\n      <th></th>\n      <th></th>\n      <th></th>\n      <th></th>\n    </tr>\n  </thead>\n  <tbody>\n    <tr>\n      <th>1</th>\n      <td>male</td>\n      <td>20</td>\n      <td>170</td>\n      <td>70</td>\n      <td>LiaoNing</td>\n      <td>71</td>\n    </tr>\n    <tr>\n      <th>2</th>\n      <td>male</td>\n      <td>22</td>\n      <td>180</td>\n      <td>71</td>\n      <td>GuangXi</td>\n      <td>77</td>\n    </tr>\n    <tr>\n      <th>3</th>\n      <td>male</td>\n      <td>22</td>\n      <td>180</td>\n      <td>62</td>\n      <td>FuJian</td>\n      <td>57</td>\n    </tr>\n    <tr>\n      <th>4</th>\n      <td>male</td>\n      <td>20</td>\n      <td>177</td>\n      <td>72</td>\n      <td>LiaoNing</td>\n      <td>79</td>\n    </tr>\n    <tr>\n      <th>5</th>\n      <td>male</td>\n      <td>20</td>\n      <td>172</td>\n      <td>74</td>\n      <td>ShanDong</td>\n      <td>91</td>\n    </tr>\n  </tbody>\n</table>\n</div>"
     },
     "execution_count": 41,
     "metadata": {},
     "output_type": "execute_result"
    }
   ],
   "source": [
    "# 将序号表示为索引列\n",
    "student  = pd.read_csv('./data/student1.csv',encoding='utf-8',index_col=0)\n",
    "student"
   ],
   "metadata": {
    "collapsed": false,
    "ExecuteTime": {
     "end_time": "2023-09-17T14:16:15.533165800Z",
     "start_time": "2023-09-17T14:16:15.505159Z"
    }
   }
  },
  {
   "cell_type": "code",
   "execution_count": 42,
   "outputs": [
    {
     "data": {
      "text/plain": "     性别  年龄   身高  体重        省份  成绩\n1  male  20  170  70  LiaoNing  71\n2  male  22  180  71   GuangXi  77\n3  male  22  180  62    FuJian  57\n4  male  20  177  72  LiaoNing  79\n5  male  20  172  74  ShanDong  91",
      "text/html": "<div>\n<style scoped>\n    .dataframe tbody tr th:only-of-type {\n        vertical-align: middle;\n    }\n\n    .dataframe tbody tr th {\n        vertical-align: top;\n    }\n\n    .dataframe thead th {\n        text-align: right;\n    }\n</style>\n<table border=\"1\" class=\"dataframe\">\n  <thead>\n    <tr style=\"text-align: right;\">\n      <th></th>\n      <th>性别</th>\n      <th>年龄</th>\n      <th>身高</th>\n      <th>体重</th>\n      <th>省份</th>\n      <th>成绩</th>\n    </tr>\n  </thead>\n  <tbody>\n    <tr>\n      <th>1</th>\n      <td>male</td>\n      <td>20</td>\n      <td>170</td>\n      <td>70</td>\n      <td>LiaoNing</td>\n      <td>71</td>\n    </tr>\n    <tr>\n      <th>2</th>\n      <td>male</td>\n      <td>22</td>\n      <td>180</td>\n      <td>71</td>\n      <td>GuangXi</td>\n      <td>77</td>\n    </tr>\n    <tr>\n      <th>3</th>\n      <td>male</td>\n      <td>22</td>\n      <td>180</td>\n      <td>62</td>\n      <td>FuJian</td>\n      <td>57</td>\n    </tr>\n    <tr>\n      <th>4</th>\n      <td>male</td>\n      <td>20</td>\n      <td>177</td>\n      <td>72</td>\n      <td>LiaoNing</td>\n      <td>79</td>\n    </tr>\n    <tr>\n      <th>5</th>\n      <td>male</td>\n      <td>20</td>\n      <td>172</td>\n      <td>74</td>\n      <td>ShanDong</td>\n      <td>91</td>\n    </tr>\n  </tbody>\n</table>\n</div>"
     },
     "execution_count": 42,
     "metadata": {},
     "output_type": "execute_result"
    }
   ],
   "source": [
    "# 读取txt文件\n",
    "colNames = ['性别','年龄','身高','体重','省份','成绩']\n",
    "student = pd.read_csv('./data/student2.txt',sep='\\t',index_col=0,header=None,names = colNames)\n",
    "student"
   ],
   "metadata": {
    "collapsed": false,
    "ExecuteTime": {
     "end_time": "2023-09-17T14:20:47.434667100Z",
     "start_time": "2023-09-17T14:20:47.412667900Z"
    }
   }
  },
  {
   "cell_type": "code",
   "execution_count": 43,
   "outputs": [
    {
     "data": {
      "text/plain": "     性别  年龄   身高  体重        省份  成绩\n1  male  20  170  70  LiaoNing  71\n2  male  22  180  71   GuangXi  77",
      "text/html": "<div>\n<style scoped>\n    .dataframe tbody tr th:only-of-type {\n        vertical-align: middle;\n    }\n\n    .dataframe tbody tr th {\n        vertical-align: top;\n    }\n\n    .dataframe thead th {\n        text-align: right;\n    }\n</style>\n<table border=\"1\" class=\"dataframe\">\n  <thead>\n    <tr style=\"text-align: right;\">\n      <th></th>\n      <th>性别</th>\n      <th>年龄</th>\n      <th>身高</th>\n      <th>体重</th>\n      <th>省份</th>\n      <th>成绩</th>\n    </tr>\n  </thead>\n  <tbody>\n    <tr>\n      <th>1</th>\n      <td>male</td>\n      <td>20</td>\n      <td>170</td>\n      <td>70</td>\n      <td>LiaoNing</td>\n      <td>71</td>\n    </tr>\n    <tr>\n      <th>2</th>\n      <td>male</td>\n      <td>22</td>\n      <td>180</td>\n      <td>71</td>\n      <td>GuangXi</td>\n      <td>77</td>\n    </tr>\n  </tbody>\n</table>\n</div>"
     },
     "execution_count": 43,
     "metadata": {},
     "output_type": "execute_result"
    }
   ],
   "source": [
    "student[:2]"
   ],
   "metadata": {
    "collapsed": false,
    "ExecuteTime": {
     "end_time": "2023-09-17T14:20:52.507733600Z",
     "start_time": "2023-09-17T14:20:52.476739700Z"
    }
   }
  },
  {
   "cell_type": "markdown",
   "source": [
    "### 保存csv文件\n",
    "`pd.to_csv()` 是 Pandas 库中用于将数据保存为 CSV 文件的函数。它可以将一个 Pandas 的 DataFrame 对象保存为 CSV 格式的文件。\n",
    "\n",
    "以下是 `pd.to_csv()` 函数的一些常用参数的解释：\n",
    "\n",
    "- `path_or_buf`：CSV 文件的保存路径或文件对象。可以是字符串形式的文件路径，也可以是文件对象，如文件句柄或 StringIO 对象。\n",
    "- `sep`：字段分隔符。默认为逗号（','）。可以使用其他字符作为字段的分隔符，如制表符('\\t')或分号(';')等。\n",
    "- `na_rep`：用于表示缺失值（NaN）的字符串。默认为空字符串。\n",
    "- `columns`：指定要保存的列的列表。可以是 DataFrame 的列名列表，或者是要保留的列的索引列表。\n",
    "- `header`：指定是否包含列名（标题）行。默认为 `True`，即包含列名行。可以设置为 `False`，表示不包含列名行。\n",
    "- `index`：指定是否包含行索引。默认为 `True`，即包含行索引。可以设置为 `False`，表示不包含行索引。\n",
    "- `mode`：文件写入模式。默认为 `'w'`，表示覆盖模式（如果文件存在，则覆盖它）。可以设置为 `'a'`，表示追加模式（如果文件存在，则追加到文件末尾）。\n",
    "- `encoding`：指定文件的字符编码方式。常用的编码方式包括 'utf-8'、'latin1'、'gbk' 等。\n",
    "- `line_terminator`：指定行终止符的字符串。默认为 `'\\n'`。可以设置为其他字符串，如 `'\\r\\n'`。\n",
    "- `date_format`：日期类型的格式字符串。用于将日期类型的数据以指定格式保存到 CSV 文件中。\n",
    "- `decimal`：浮点数的小数点分隔符。默认为 `'.'`。\n",
    "- `quotechar`：字段引号字符。默认为 `'\"'`。\n",
    "- `quoting`：字段引号的控制方式。默认为 `csv.QUOTE_MINIMAL`，表示仅在有特殊字符时才使用引号。可以设置为其他 `csv` 模块中定义的引号控制常量。\n",
    "- `compression`：压缩文件的方式。可以是 `'infer'`（根据文件扩展名自动推断压缩类型），或者是支持的压缩类型，如 `'gzip'`、`'zip'` 等。\n",
    "\n",
    "这些只是 `pd.to_csv()` 函数的一部分参数，还有其他可用的参数，可以根据需要进行查阅和使用。"
   ],
   "metadata": {
    "collapsed": false
   }
  },
  {
   "cell_type": "code",
   "execution_count": 45,
   "outputs": [],
   "source": [
    "data  = [[19,68,170],[20,65,165],[18,65,175]]\n",
    "student = pd.DataFrame(data=data,index= [1,2,3],columns=['age','weight','height'])\n",
    "student.to_csv('./data/out/out.csv',mode='w',header=True,index=False)"
   ],
   "metadata": {
    "collapsed": false,
    "ExecuteTime": {
     "end_time": "2023-09-17T14:26:50.312634400Z",
     "start_time": "2023-09-17T14:26:50.290579600Z"
    }
   }
  },
  {
   "cell_type": "markdown",
   "source": [
    "### 读取Excel文件\n",
    "`pd.read_excel()` 函数是 Pandas 库中用于读取 Excel 文件的函数。它可以将 Excel 文件加载到一个 Pandas 的 DataFrame 对象中，方便进行数据分析和处理。\n",
    "\n",
    "以下是 `pd.read_excel()` 函数的一些常用参数的解释：\n",
    "\n",
    "- `io`：Excel 文件的路径，可以是本地文件路径或远程文件的 URL 地址。也可以是文件对象，如文件句柄或 BytesIO 对象。\n",
    "- `sheet_name`：要读取的工作表的名称或索引。默认为 `0`，表示读取第一个工作表。可以是单个工作表名称的字符串，也可以是多个工作表名称的列表。\n",
    "- `header`：指定行号或行号列表，作为列名。默认为 `0`，表示第一行作为列名。如果没有列名，可以设置为 `None`。\n",
    "- `index_col`：用作行索引的列编号或列名。可以是单个列名/编号，或者是由多个列名/编号组成的列表。\n",
    "- `names`：用于给列指定名称的列表。如果文件中没有列名行，可以使用该参数为列指定名称。\n",
    "- `skiprows`：跳过指定的行数。可以是单个整数或整数列表，表示要跳过的行的编号。\n",
    "- `skipfooter`：跳过文件末尾的指定行数。常用于跳过页脚或汇总行。\n",
    "- `nrows`：要读取的行数。如果只想读取文件的前几行，可以指定该参数。\n",
    "- `na_values`：用于将特定值识别为空值的列表。可以是单个值、字符串、列表或字典。\n",
    "- `parse_dates`：将指定的列解析为日期。可以是单个列名/编号，或者由多个列名/编号组成的列表。\n",
    "- `date_parser`：用于解析日期列的函数。默认为 `None`，表示使用 Pandas 默认的日期解析器。\n",
    "- `header`：指定要读取的行作为列名的行号。默认为 `0`，即第一行。\n",
    "- `usecols`：指定要读取的列的列名或列号的列表。可以是单个列名/编号，或者由多个列名/编号组成的列表。\n",
    "- `converters`：列转换器的字典。可以指定特定列的转换函数，将读取的值转换为指定的格式。\n",
    "- `dtype`：指定列的数据类型。可以是字典，将列名映射到数据类型，或者一个数据类型，将该类型应用于所有列。\n",
    "- `engine`：指定要使用的解析引擎。默认为 `None`，表示自动选择引擎。可以是 `'xlrd'`、`'openpyxl'` 等。\n",
    "\n",
    "这些只是 `pd.read_excel()` 函数的一部分参数，还有其他可用的参数，可以根据需要进行查阅和使用。"
   ],
   "metadata": {
    "collapsed": false
   }
  },
  {
   "cell_type": "code",
   "execution_count": null,
   "outputs": [],
   "source": [],
   "metadata": {
    "collapsed": false
   }
  }
 ],
 "metadata": {
  "kernelspec": {
   "display_name": "Python 3",
   "language": "python",
   "name": "python3"
  },
  "language_info": {
   "codemirror_mode": {
    "name": "ipython",
    "version": 2
   },
   "file_extension": ".py",
   "mimetype": "text/x-python",
   "name": "python",
   "nbconvert_exporter": "python",
   "pygments_lexer": "ipython2",
   "version": "2.7.6"
  }
 },
 "nbformat": 4,
 "nbformat_minor": 0
}
